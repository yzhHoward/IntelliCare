{
 "cells": [
  {
   "cell_type": "code",
   "execution_count": 1,
   "metadata": {},
   "outputs": [],
   "source": [
    "import csv\n",
    "\n",
    "ccscm_id2name = {}\n",
    "with open('../../resources/CCSCM.csv', 'r') as f:\n",
    "    lines = f.readlines()\n",
    "    for line in lines[1:]:\n",
    "        line = line.strip().split(',')\n",
    "        ccscm_id2name[line[0]] = line[1].lower()\n",
    "\n",
    "ccsproc_id2name = {}\n",
    "with open('../../resources/CCSPROC.csv', 'r') as f:\n",
    "    lines = f.readlines()\n",
    "    for line in lines[1:]:\n",
    "        line = line.strip().split(',')\n",
    "        ccsproc_id2name[line[0]] = line[1].lower()\n",
    "\n",
    "atc3_id2name = {}\n",
    "with open(\"../../resources/ATC.csv\", newline='') as csvfile:\n",
    "    reader = csv.DictReader(csvfile)\n",
    "    for row in reader:\n",
    "        if row['level'] == '3.0':\n",
    "            atc3_id2name[row['code']] = row['name'].lower()"
   ]
  },
  {
   "cell_type": "code",
   "execution_count": 2,
   "metadata": {},
   "outputs": [],
   "source": [
    "path_0 = \"/data/pj20/exp_data\"\n",
    "\n",
    "ccscm_id2emb = {}\n",
    "ccsproc_id2emb = {}\n",
    "atc3_id2emb = {}"
   ]
  },
  {
   "cell_type": "code",
   "execution_count": 3,
   "metadata": {},
   "outputs": [
    {
     "name": "stderr",
     "output_type": "stream",
     "text": [
      "100%|██████████| 285/285 [01:07<00:00,  4.21it/s]\n",
      "100%|██████████| 231/231 [00:55<00:00,  4.13it/s]\n",
      "100%|██████████| 269/269 [01:08<00:00,  3.93it/s]\n"
     ]
    }
   ],
   "source": [
    "from get_emb import embedding_retriever\n",
    "import numpy as np\n",
    "from tqdm import tqdm\n",
    "import pickle\n",
    "\n",
    "for key in tqdm(ccscm_id2name.keys()):\n",
    "    emb = embedding_retriever(term=ccscm_id2name[key])\n",
    "    ccscm_id2emb[key] = emb\n",
    "\n",
    "for key in tqdm(ccsproc_id2name.keys()):\n",
    "    emb = embedding_retriever(term=ccsproc_id2name[key])\n",
    "    ccsproc_id2emb[key] = emb\n",
    "\n",
    "for key in tqdm(atc3_id2name.keys()):\n",
    "    emb = embedding_retriever(term=atc3_id2name[key])\n",
    "    atc3_id2emb[key] = emb\n",
    "\n",
    "with open(f\"{path_0}/ccscm_id2emb.pkl\", \"wb\") as f:\n",
    "    pickle.dump(ccscm_id2emb, f)\n",
    "\n",
    "with open(f\"{path_0}/ccsproc_id2emb.pkl\", \"wb\") as f:\n",
    "    pickle.dump(ccsproc_id2emb, f)\n",
    "\n",
    "with open(f\"{path_0}/atc3_id2emb.pkl\", \"wb\") as f:\n",
    "    pickle.dump(atc3_id2emb, f)"
   ]
  },
  {
   "cell_type": "code",
   "execution_count": 4,
   "metadata": {},
   "outputs": [],
   "source": [
    "def cosine_similarity(u, v):\n",
    "    return np.dot(u, v) / (np.linalg.norm(u) * np.linalg.norm(v))"
   ]
  },
  {
   "cell_type": "code",
   "execution_count": 5,
   "metadata": {},
   "outputs": [],
   "source": [
    "import json\n",
    "\n",
    "path_1 = \"/data/pj20/exp_data/ccscm_ccsproc\"\n",
    "path_1_ = \"../../graphs/cond_proc/CCSCM_CCSPROC\"\n",
    "\n",
    "ent2id_file = f\"{path_1_}/ent2id.json\"\n",
    "ent_emb_file = f\"{path_1_}/entity_embedding.pkl\"\n",
    "map_cluster_file = f\"{path_1}/clusters_th015.json\" \n",
    "map_cluster_inv = f\"{path_1}/clusters_inv_th015.json\"\n",
    "\n",
    "with open(ent2id_file, \"r\") as f:\n",
    "    ent2id = json.load(f)\n",
    "\n",
    "with open(ent_emb_file, \"rb\") as f:\n",
    "    ent_emb = pickle.load(f)\n",
    "\n",
    "with open(map_cluster_file, \"r\") as f:\n",
    "    map_cluster = json.load(f)\n",
    "\n",
    "with open(map_cluster_inv, \"r\") as f:\n",
    "    map_cluster_inv = json.load(f)\n"
   ]
  },
  {
   "cell_type": "code",
   "execution_count": 6,
   "metadata": {},
   "outputs": [
    {
     "name": "stderr",
     "output_type": "stream",
     "text": [
      "100%|██████████| 285/285 [00:49<00:00,  5.78it/s]\n",
      "100%|██████████| 231/231 [00:39<00:00,  5.79it/s]\n"
     ]
    }
   ],
   "source": [
    "ccscm_id2clus = {}\n",
    "ccsproc_id2clus = {}\n",
    "\n",
    "for key in tqdm(ccscm_id2emb.keys()):\n",
    "    emb = ccscm_id2emb[key]\n",
    "    emb = np.array(emb)\n",
    "    max_sim = 0\n",
    "    max_id = None\n",
    "    for i in range(ent_emb.shape[0]):\n",
    "        emb_compare = ent_emb[i]\n",
    "        sim = cosine_similarity(emb, emb_compare)\n",
    "        if sim > max_sim:\n",
    "            max_sim = sim\n",
    "            max_id = i\n",
    "    \n",
    "    cluster_id = map_cluster_inv[str(max_id)]\n",
    "    ccscm_id2clus[key] = cluster_id\n",
    "\n",
    "for key in tqdm(ccsproc_id2emb.keys()):\n",
    "    emb = ccsproc_id2emb[key]\n",
    "    emb = np.array(emb)\n",
    "    max_sim = 0\n",
    "    max_id = None\n",
    "    for i in range(ent_emb.shape[0]):\n",
    "        emb_compare = ent_emb[i]\n",
    "        sim = cosine_similarity(emb, emb_compare)\n",
    "        if sim > max_sim:\n",
    "            max_sim = sim\n",
    "            max_id = i\n",
    "    \n",
    "    cluster_id = map_cluster_inv[str(max_id)]\n",
    "    ccsproc_id2clus[key] = cluster_id\n",
    "\n",
    "with open(f\"{path_1}/ccscm_id2clus.json\", \"w\") as f:\n",
    "    json.dump(ccscm_id2clus, f)\n",
    "\n",
    "with open(f\"{path_1}/ccsproc_id2clus.json\", \"w\") as f:\n",
    "    json.dump(ccsproc_id2clus, f)\n"
   ]
  },
  {
   "cell_type": "code",
   "execution_count": 7,
   "metadata": {},
   "outputs": [],
   "source": [
    "path_2 = \"/data/pj20/exp_data/ccscm_ccsproc_atc3\"\n",
    "path_2_ = \"../../graphs/cond_proc_drug/CCSCM_CCSPROC_ATC3\"\n",
    "\n",
    "ent2id_file = f\"{path_2_}/ent2id.json\"\n",
    "ent_emb_file = f\"{path_2_}/entity_embedding.pkl\"\n",
    "map_cluster_file = f\"{path_2}/clusters_th015.json\" \n",
    "map_cluster_inv = f\"{path_2}/clusters_inv_th015.json\"\n",
    "\n",
    "with open(ent2id_file, \"r\") as f:\n",
    "    ent2id = json.load(f)\n",
    "\n",
    "with open(ent_emb_file, \"rb\") as f:\n",
    "    ent_emb = pickle.load(f)\n",
    "\n",
    "with open(map_cluster_file, \"r\") as f:\n",
    "    map_cluster = json.load(f)\n",
    "\n",
    "with open(map_cluster_inv, \"r\") as f:\n",
    "    map_cluster_inv = json.load(f)"
   ]
  },
  {
   "cell_type": "code",
   "execution_count": 8,
   "metadata": {},
   "outputs": [
    {
     "name": "stderr",
     "output_type": "stream",
     "text": [
      "100%|██████████| 285/285 [01:51<00:00,  2.57it/s]\n",
      "100%|██████████| 231/231 [01:22<00:00,  2.78it/s]\n",
      "100%|██████████| 269/269 [01:37<00:00,  2.75it/s]\n"
     ]
    }
   ],
   "source": [
    "ccscm_id2clus = {}\n",
    "ccsproc_id2clus = {}\n",
    "atc3_id2clus = {}\n",
    "\n",
    "for key in tqdm(ccscm_id2emb.keys()):\n",
    "    emb = ccscm_id2emb[key]\n",
    "    emb = np.array(emb)\n",
    "    max_sim = 0\n",
    "    max_id = None\n",
    "    for i in range(ent_emb.shape[0]):\n",
    "        emb_compare = ent_emb[i]\n",
    "        sim = cosine_similarity(emb, emb_compare)\n",
    "        if sim > max_sim:\n",
    "            max_sim = sim\n",
    "            max_id = i\n",
    "    \n",
    "    cluster_id = map_cluster_inv[str(max_id)]\n",
    "    ccscm_id2clus[key] = cluster_id\n",
    "\n",
    "for key in tqdm(ccsproc_id2emb.keys()):\n",
    "    emb = ccsproc_id2emb[key]\n",
    "    emb = np.array(emb)\n",
    "    max_sim = 0\n",
    "    max_id = None\n",
    "    for i in range(ent_emb.shape[0]):\n",
    "        emb_compare = ent_emb[i]\n",
    "        sim = cosine_similarity(emb, emb_compare)\n",
    "        if sim > max_sim:\n",
    "            max_sim = sim\n",
    "            max_id = i\n",
    "    \n",
    "    cluster_id = map_cluster_inv[str(max_id)]\n",
    "    ccsproc_id2clus[key] = cluster_id\n",
    "\n",
    "for key in tqdm(atc3_id2emb.keys()):\n",
    "    emb = atc3_id2emb[key]\n",
    "    emb = np.array(emb)\n",
    "    max_sim = 0\n",
    "    max_id = None\n",
    "    for i in range(ent_emb.shape[0]):\n",
    "        emb_compare = ent_emb[i]\n",
    "        sim = cosine_similarity(emb, emb_compare)\n",
    "        if sim > max_sim:\n",
    "            max_sim = sim\n",
    "            max_id = i\n",
    "    \n",
    "    cluster_id = map_cluster_inv[str(max_id)]\n",
    "    atc3_id2clus[key] = cluster_id\n",
    "\n",
    "with open(f\"{path_2}/ccscm_id2clus.json\", \"w\") as f:\n",
    "    json.dump(ccscm_id2clus, f)\n",
    "\n",
    "with open(f\"{path_2}/ccsproc_id2clus.json\", \"w\") as f:\n",
    "    json.dump(ccsproc_id2clus, f)\n",
    "\n",
    "with open(f\"{path_2}/atc3_id2clus.json\", \"w\") as f:\n",
    "    json.dump(atc3_id2clus, f)"
   ]
  },
  {
   "cell_type": "code",
   "execution_count": null,
   "metadata": {},
   "outputs": [],
   "source": []
  }
 ],
 "metadata": {
  "kernelspec": {
   "display_name": "Python 3.8.13 ('kgc')",
   "language": "python",
   "name": "python3"
  },
  "language_info": {
   "codemirror_mode": {
    "name": "ipython",
    "version": 3
   },
   "file_extension": ".py",
   "mimetype": "text/x-python",
   "name": "python",
   "nbconvert_exporter": "python",
   "pygments_lexer": "ipython3",
   "version": "3.8.13"
  },
  "orig_nbformat": 4,
  "vscode": {
   "interpreter": {
    "hash": "3d0509d9aa81f2882b18eeb72d4d23c32cae9029e9b99f63cde94ba86c35ac78"
   }
  }
 },
 "nbformat": 4,
 "nbformat_minor": 2
}
